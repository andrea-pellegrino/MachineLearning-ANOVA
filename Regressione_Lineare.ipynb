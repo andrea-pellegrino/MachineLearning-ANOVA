{
 "cells": [
  {
   "cell_type": "code",
   "execution_count": 18,
   "metadata": {},
   "outputs": [
    {
     "name": "stdout",
     "output_type": "stream",
     "text": [
      "Lo score è:\n",
      " 0.4826335866755326 \n",
      "\n",
      "Ypred\t Yreal\n",
      "122.9 \t 78.0\n",
      "112.1 \t 152.0\n",
      "178.2 \t 200.0\n",
      "70.2 \t 59.0\n",
      "172.6 \t 311.0\n",
      "191.8 \t 178.0\n",
      "218.2 \t 332.0\n",
      "119.4 \t 132.0\n",
      "158.9 \t 156.0\n",
      "128.9 \t 135.0\n",
      "\n",
      "Coef\tValue\n",
      "age \t -12\n",
      "sex \t -246\n",
      "bmi \t 511\n",
      "bp \t 323\n",
      "s1 \t -735\n",
      "s2 \t 441\n",
      "s3 \t 81\n",
      "s4 \t 164\n",
      "s5 \t 745\n",
      "s6 \t 53\n"
     ]
    }
   ],
   "source": [
    "from sklearn.datasets import load_diabetes\n",
    "from sklearn.model_selection import train_test_split\n",
    "from sklearn.linear_model import LinearRegression\n",
    "data = load_diabetes()\n",
    "X = data.data\n",
    "y = data.target\n",
    "X_train, X_test, y_train, y_test = train_test_split(X,y,test_size=10,random_state=1)\n",
    "model = LinearRegression()\n",
    "model.fit(X_train,y_train)\n",
    "score = model.score(X_test,y_test)\n",
    "print('Lo score è:\\n',score,'\\n')\n",
    "\n",
    "yp_test = model.predict(X_test)\n",
    "\n",
    "print('Ypred\\t Yreal')\n",
    "for i in range(len(yp_test)):\n",
    "    print(round(yp_test[i],1),'\\t',y_test[i])\n",
    "    \n",
    "print('\\nCoef\\tValue')\n",
    "for j in range(len(model.coef_)):\n",
    "    print(data.feature_names[j],'\\t',int(model.coef_[j]))"
   ]
  },
  {
   "cell_type": "code",
   "execution_count": null,
   "metadata": {},
   "outputs": [],
   "source": []
  }
 ],
 "metadata": {
  "kernelspec": {
   "display_name": "Python 3",
   "language": "python",
   "name": "python3"
  },
  "language_info": {
   "codemirror_mode": {
    "name": "ipython",
    "version": 3
   },
   "file_extension": ".py",
   "mimetype": "text/x-python",
   "name": "python",
   "nbconvert_exporter": "python",
   "pygments_lexer": "ipython3",
   "version": "3.7.3"
  }
 },
 "nbformat": 4,
 "nbformat_minor": 4
}
