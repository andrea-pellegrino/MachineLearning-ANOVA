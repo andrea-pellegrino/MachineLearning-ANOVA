{
 "cells": [
  {
   "cell_type": "code",
   "execution_count": 2,
   "metadata": {},
   "outputs": [
    {
     "data": {
      "text/plain": [
       "'\\n#Dado1\\nd1 = Dado(n)\\n#Dado2\\nd2 = Dado_Truccato(n)\\n\\n#Media Dado1\\nprint(np.mean(d1))\\n#Media Dado2\\nprint(np.mean(d2))\\n\\n#StDev Dado1\\nprint(np.std(d1,ddof=1))\\n#StDev Dado2\\nprint(np.std(d2,ddof=1))\\n'"
      ]
     },
     "execution_count": 2,
     "metadata": {},
     "output_type": "execute_result"
    }
   ],
   "source": [
    "import numpy as np\n",
    "\n",
    "#Numero di tiri\n",
    "n = 100\n",
    "\n",
    "def Dado(n):\n",
    "    return np.random.randint(1, high=7, size=n)\n",
    "\n",
    "def Dado_Truccato(n):\n",
    "    facce = [4,5,5,6,6,6]\n",
    "    pos = np.random.randint(1, high=7, size=n)\n",
    "    out = np.zeros(n,dtype=int)\n",
    "    for i in range(n):\n",
    "        out[i] = facce[pos[i]-1]\n",
    "    return out\n",
    "\n",
    "'''\n",
    "#Dado1\n",
    "d1 = Dado(n)\n",
    "#Dado2\n",
    "d2 = Dado_Truccato(n)\n",
    "\n",
    "#Media Dado1\n",
    "print(np.mean(d1))\n",
    "#Media Dado2\n",
    "print(np.mean(d2))\n",
    "\n",
    "#StDev Dado1\n",
    "print(np.std(d1,ddof=1))\n",
    "#StDev Dado2\n",
    "print(np.std(d2,ddof=1))\n",
    "'''"
   ]
  },
  {
   "cell_type": "code",
   "execution_count": 94,
   "metadata": {},
   "outputs": [
    {
     "name": "stdout",
     "output_type": "stream",
     "text": [
      "0.29934675263917937\n"
     ]
    }
   ],
   "source": [
    "n = 10000\n",
    "\n",
    "d1 = Dado(n)\n",
    "d2 = Dado(n)\n",
    "\n",
    "m1 = np.mean(d1)\n",
    "m2 = np.mean(d2)\n",
    "\n",
    "v1 = np.var(d1,ddof=1)\n",
    "v2 = np.var(d2,ddof=1)\n",
    "\n",
    "mdm = (m1+m2)/2\n",
    "vm = (v1+v2)/2\n",
    "vdm = (m1-mdm)**2 + (m2-mdm)**2\n",
    "\n",
    "F = n*vdm/vm\n",
    "print(F)"
   ]
  },
  {
   "cell_type": "code",
   "execution_count": 95,
   "metadata": {},
   "outputs": [
    {
     "name": "stdout",
     "output_type": "stream",
     "text": [
      "0.5842983434580054\n"
     ]
    },
    {
     "data": {
      "text/plain": [
       "F_onewayResult(statistic=0.29934675263918503, pvalue=0.5842983434574305)"
      ]
     },
     "execution_count": 95,
     "metadata": {},
     "output_type": "execute_result"
    }
   ],
   "source": [
    "from scipy.stats import f, f_oneway\n",
    "import matplotlib.pyplot as plt\n",
    "\n",
    "gdl_num = 1\n",
    "gdl_den = 2*(n-1)\n",
    "alpha = 0.05\n",
    "\n",
    "f.ppf(1-alpha, gdl_num, gdl_den)\n",
    "\n",
    "p = 1-f.cdf(F, gdl_num, gdl_den)\n",
    "print(p)\n",
    "\n",
    "f_oneway(d1,d2)"
   ]
  },
  {
   "cell_type": "code",
   "execution_count": null,
   "metadata": {},
   "outputs": [],
   "source": []
  }
 ],
 "metadata": {
  "kernelspec": {
   "display_name": "Python 3",
   "language": "python",
   "name": "python3"
  },
  "language_info": {
   "codemirror_mode": {
    "name": "ipython",
    "version": 3
   },
   "file_extension": ".py",
   "mimetype": "text/x-python",
   "name": "python",
   "nbconvert_exporter": "python",
   "pygments_lexer": "ipython3",
   "version": "3.7.3"
  }
 },
 "nbformat": 4,
 "nbformat_minor": 4
}
