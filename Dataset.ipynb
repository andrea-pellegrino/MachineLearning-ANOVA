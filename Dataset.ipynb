{
 "cells": [
  {
   "cell_type": "code",
   "execution_count": 57,
   "metadata": {},
   "outputs": [
    {
     "data": {
      "image/png": "[encoded data removed]",
      "text/plain": [
       "<Figure size 432x288 with 2 Axes>"
      ]
     },
     "metadata": {
      "needs_background": "light"
     },
     "output_type": "display_data"
    }
   ],
   "source": [
    "import matplotlib.pyplot as plt\n",
    "from sklearn.datasets import load_iris\n",
    "data = load_iris()\n",
    "\n",
    "X = data.data\n",
    "y = data.target\n",
    "\n",
    "plt.figure(1)\n",
    "plt.scatter(X[:,2],X[:,3],c=y)\n",
    "plt.colorbar()\n",
    "plt.show()"
   ]
  },
  {
   "cell_type": "code",
   "execution_count": 35,
   "metadata": {},
   "outputs": [
    {
     "data": {
      "text/html": [
       "<div>\n",
       "<style scoped>\n",
       "    .dataframe tbody tr th:only-of-type {\n",
       "        vertical-align: middle;\n",
       "    }\n",
       "\n",
       "    .dataframe tbody tr th {\n",
       "        vertical-align: top;\n",
       "    }\n",
       "\n",
       "    .dataframe thead th {\n",
       "        text-align: right;\n",
       "    }\n",
       "</style>\n",
       "<table border=\"1\" class=\"dataframe\">\n",
       "  <thead>\n",
       "    <tr style=\"text-align: right;\">\n",
       "      <th></th>\n",
       "      <th>CIRCOSCRIZIONE</th>\n",
       "      <th>PROVINCIA</th>\n",
       "      <th>COMUNE</th>\n",
       "      <th>NUMERO_CANDIDATO</th>\n",
       "      <th>CANDI_DESCR_COGNOME</th>\n",
       "      <th>CANDI_DESCR_NOME</th>\n",
       "      <th>DESCLISTE</th>\n",
       "      <th>PREFERENZE</th>\n",
       "    </tr>\n",
       "  </thead>\n",
       "  <tbody>\n",
       "    <tr>\n",
       "      <th>0</th>\n",
       "      <td>BOLOGNA</td>\n",
       "      <td>BOLOGNA</td>\n",
       "      <td>ALTO RENO TERME</td>\n",
       "      <td>5</td>\n",
       "      <td>BERNARDI</td>\n",
       "      <td>ALESSANDRO</td>\n",
       "      <td>POTERE AL POPOLO!</td>\n",
       "      <td>1</td>\n",
       "    </tr>\n",
       "    <tr>\n",
       "      <th>1</th>\n",
       "      <td>BOLOGNA</td>\n",
       "      <td>BOLOGNA</td>\n",
       "      <td>ALTO RENO TERME</td>\n",
       "      <td>8</td>\n",
       "      <td>CENNI</td>\n",
       "      <td>ILARIA</td>\n",
       "      <td>POTERE AL POPOLO!</td>\n",
       "      <td>0</td>\n",
       "    </tr>\n",
       "    <tr>\n",
       "      <th>2</th>\n",
       "      <td>BOLOGNA</td>\n",
       "      <td>BOLOGNA</td>\n",
       "      <td>ALTO RENO TERME</td>\n",
       "      <td>7</td>\n",
       "      <td>NANNI</td>\n",
       "      <td>MATTEO</td>\n",
       "      <td>POTERE AL POPOLO!</td>\n",
       "      <td>0</td>\n",
       "    </tr>\n",
       "    <tr>\n",
       "      <th>3</th>\n",
       "      <td>BOLOGNA</td>\n",
       "      <td>BOLOGNA</td>\n",
       "      <td>ALTO RENO TERME</td>\n",
       "      <td>3</td>\n",
       "      <td>ODORICI</td>\n",
       "      <td>MARCO</td>\n",
       "      <td>POTERE AL POPOLO!</td>\n",
       "      <td>0</td>\n",
       "    </tr>\n",
       "    <tr>\n",
       "      <th>4</th>\n",
       "      <td>BOLOGNA</td>\n",
       "      <td>BOLOGNA</td>\n",
       "      <td>ALTO RENO TERME</td>\n",
       "      <td>1</td>\n",
       "      <td>PICCININI</td>\n",
       "      <td>LORENZO</td>\n",
       "      <td>POTERE AL POPOLO!</td>\n",
       "      <td>0</td>\n",
       "    </tr>\n",
       "  </tbody>\n",
       "</table>\n",
       "</div>"
      ],
      "text/plain": [
       "  CIRCOSCRIZIONE PROVINCIA           COMUNE  NUMERO_CANDIDATO  \\\n",
       "0        BOLOGNA   BOLOGNA  ALTO RENO TERME                 5   \n",
       "1        BOLOGNA   BOLOGNA  ALTO RENO TERME                 8   \n",
       "2        BOLOGNA   BOLOGNA  ALTO RENO TERME                 7   \n",
       "3        BOLOGNA   BOLOGNA  ALTO RENO TERME                 3   \n",
       "4        BOLOGNA   BOLOGNA  ALTO RENO TERME                 1   \n",
       "\n",
       "  CANDI_DESCR_COGNOME CANDI_DESCR_NOME          DESCLISTE  PREFERENZE  \n",
       "0            BERNARDI       ALESSANDRO  POTERE AL POPOLO!           1  \n",
       "1               CENNI           ILARIA  POTERE AL POPOLO!           0  \n",
       "2               NANNI           MATTEO  POTERE AL POPOLO!           0  \n",
       "3             ODORICI            MARCO  POTERE AL POPOLO!           0  \n",
       "4           PICCININI          LORENZO  POTERE AL POPOLO!           0  "
      ]
     },
     "execution_count": 35,
     "metadata": {},
     "output_type": "execute_result"
    }
   ],
   "source": [
    "import pandas as pd\n",
    "name = '20200126_regionali_preferenze_d.csv'\n",
    "path = '/Users/andre/Documents/CuriosiData/Data/'\n",
    "df = pd.read_csv(path+name,sep=';',engine='python')\n",
    "df.head()"
   ]
  },
  {
   "cell_type": "code",
   "execution_count": null,
   "metadata": {},
   "outputs": [],
   "source": []
  }
 ],
 "metadata": {
  "kernelspec": {
   "display_name": "Python 3",
   "language": "python",
   "name": "python3"
  },
  "language_info": {
   "codemirror_mode": {
    "name": "ipython",
    "version": 3
   },
   "file_extension": ".py",
   "mimetype": "text/x-python",
   "name": "python",
   "nbconvert_exporter": "python",
   "pygments_lexer": "ipython3",
   "version": "3.7.3"
  }
 },
 "nbformat": 4,
 "nbformat_minor": 4
}
